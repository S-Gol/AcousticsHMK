{
 "cells": [
  {
   "cell_type": "markdown",
   "metadata": {},
   "source": [
    "Acoustics HMK 4\n",
    "\n",
    "10.1, 10.3, 10.5, 10.7, 10.8, 10.17, 12.3, 12.5, 12.6"
   ]
  },
  {
   "cell_type": "markdown",
   "metadata": {},
   "source": [
    "10.1\n",
    "\n",
    "Find \n",
    "\n",
    "- acoustic density\n",
    "- acoustic particle velocity, v\n",
    "- kinetic energy density\n",
    "- potential energy density\n",
    "- time-averaged intensity\n",
    "\n",
    "for $p=\\mathbf{Re} (\\hat{p}e^{j(\\omega t -kx)})$"
   ]
  },
  {
   "cell_type": "markdown",
   "metadata": {},
   "source": [
    "- $\\rho_1=\\frac{p(x,t)}{c^2}$\n",
    "- $v_1=\\frac{p(x,t)}{\\pm \\rho_m c}$\n",
    "- $KE = \\frac{1}{2}\\rho_mv_1^2$ \n",
    "- $PE = \\frac{1}{2}\\frac{\\rho_1^2}{\\rho_m c^2}$\n",
    "- $I=\\frac{p_1^2}{2\\rho_m c}=\\frac{p_{rms}^2}{\\rho_m c}$"
   ]
  },
  {
   "cell_type": "code",
   "execution_count": null,
   "metadata": {},
   "outputs": [],
   "source": []
  }
 ],
 "metadata": {
  "kernelspec": {
   "display_name": "Python 3",
   "language": "python",
   "name": "python3"
  },
  "language_info": {
   "codemirror_mode": {
    "name": "ipython",
    "version": 3
   },
   "file_extension": ".py",
   "mimetype": "text/x-python",
   "name": "python",
   "nbconvert_exporter": "python",
   "pygments_lexer": "ipython3",
   "version": "3.8.3"
  }
 },
 "nbformat": 4,
 "nbformat_minor": 4
}
