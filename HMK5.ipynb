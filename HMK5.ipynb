{
 "cells": [
  {
   "cell_type": "code",
   "execution_count": 6,
   "metadata": {},
   "outputs": [],
   "source": [
    "def findLowestModes(f, modeRange, nModes):\n",
    "    start = time.perf_counter()\n",
    "\n",
    "    r = np.arange(0,modeRange)\n",
    "    xr,yr,zr=np.meshgrid(r,r,r)\n",
    "    w=f(xr,yr,zr)\n",
    "    sortedModes=np.argpartition(w.flatten(),nModes)[0:nModes]\n",
    "    lowestModes=[]\n",
    "    \n",
    "    for k in sortedModes:\n",
    "        idx = np.unravel_index(k,w.shape)\n",
    "        freq=f(idx[0],idx[1],idx[2])\n",
    "        if type(freq) is np.ndarray:\n",
    "            lowestModes.append([idx, freq[0]])\n",
    "        else:\n",
    "            lowestModes.append([idx, freq])\n",
    "    lowestModes.sort(key = lambda x:x[1])\n",
    "    return lowestModes\n",
    "   "
   ]
  },
  {
   "cell_type": "markdown",
   "metadata": {},
   "source": [
    "### 13.1 - Golden Temple\n",
    "\n",
    "A rectangular room is Ly = 20 m wide, Lx = 32.36 m deep, and Lz = 12.36 m high.\n",
    "\n",
    "- Modes. Calculate the frequencies of the 27 lowest-frequency modes of the room. Tabulate the modes in ascending order of frequency (lowest to highest), indicating the mode numbers corresponding to each frequency.\n",
    "\n",
    "- Modal excitation and detection. Assume the modes are excited by a volume velocity source located in a corner of the room. Indicate which of the 27 lowest-frequency modes listed above would be detected by a microphone placed exactly in the center of the room (i.e., x = Lx/2, y = Ly/2, and z = Lz/2).\n",
    "\n",
    "### A:"
   ]
  },
  {
   "cell_type": "code",
   "execution_count": 13,
   "metadata": {},
   "outputs": [
    {
     "data": {
      "text/plain": [
       "[[(0, 0, 0), 0.0],\n",
       " [(1, 0, 0), 5.299752781211372],\n",
       " [(0, 1, 0), 8.575000000000001],\n",
       " [(1, 1, 0), 10.080575605686299],\n",
       " [(2, 0, 0), 10.599505562422744],\n",
       " [(2, 1, 0), 13.633786824203712],\n",
       " [(0, 0, 1), 13.875404530744339],\n",
       " [(1, 0, 1), 14.853088245673293],\n",
       " [(3, 0, 0), 15.899258343634118],\n",
       " [(0, 1, 1), 16.311268371644204],\n",
       " [(0, 2, 0), 17.150000000000002],\n",
       " [(1, 1, 1), 17.150651749532965],\n",
       " [(2, 0, 1), 17.46070929428788],\n",
       " [(1, 2, 0), 17.95020555709482],\n",
       " [(2, 1, 1), 19.452686037142307],\n",
       " [(2, 2, 0), 20.161151211372598],\n",
       " [(0, 2, 1), 22.06013034621057],\n",
       " [(1, 2, 1), 22.6878101727284],\n",
       " [(2, 2, 1), 24.474453396544554],\n",
       " [(0, 3, 0), 25.724999999999998],\n",
       " [(1, 3, 0), 26.26524327970251],\n",
       " [(2, 3, 0), 27.823104484723316],\n",
       " [(0, 3, 1), 29.228453190201503],\n",
       " [(1, 3, 1), 29.705047642341164],\n",
       " [(0, 4, 0), 34.300000000000004],\n",
       " [(1, 4, 0), 34.70702204946368],\n",
       " [(0, 4, 1), 37.00022771405334]]"
      ]
     },
     "execution_count": 13,
     "metadata": {},
     "output_type": "execute_result"
    }
   ],
   "source": [
    "import numpy as np\n",
    "import time\n",
    "\n",
    "n=100\n",
    "nToSort=27\n",
    "c=343\n",
    "l=[32.36,20,12.36]\n",
    "\n",
    "def f(x,y,z):\n",
    "    return (c/2)*np.sqrt((x/[l[0]])**2+(y/[l[1]])**2+(z/[l[2]])**2)\n",
    "\n",
    "findLowestModes(f,100,nToSort)"
   ]
  },
  {
   "cell_type": "markdown",
   "metadata": {},
   "source": [
    "### B:\n",
    "\n",
    "All modes except for the trivial mode (0,0,0) will be detected in the center of the room. \n",
    "\n",
    "### C:\n",
    "\n",
    "$ \\langle A \\rangle = \\sum{\\alpha_i A_i}$"
   ]
  },
  {
   "cell_type": "code",
   "execution_count": 19,
   "metadata": {},
   "outputs": [
    {
     "name": "stdout",
     "output_type": "stream",
     "text": [
      "fS = 34.43254032098826\n",
      "Modes below fS: 14.431741918127608\n"
     ]
    }
   ],
   "source": [
    "#Assume that the chairs approximately equal the surface area of the floor, since we aren't given dimensions\n",
    "area={}\n",
    "area['windows']=20*(3*4.85)\n",
    "area['fg']=10*(2*4.85)\n",
    "area['walls'] = 2*(l[1]*l[2]+l[0]*l[2])-area['fg']-area['windows']\n",
    "area['ceil']=l[0]*l[1]\n",
    "area['floor']=area['ceil']\n",
    "area['seats']=area['floor']\n",
    "#Absorption frequencies \n",
    "freqs=[125,250,500,1000,2000]\n",
    "\n",
    "#Absorptions for all materials and frequency range\n",
    "absorption = {}\n",
    "absorption['windows']=[0.35,0.25,0.18,0.12,0.07]\n",
    "absorption['walls']=[0.3,0.25,0.2,0.17,0.15]\n",
    "absorption['fg']=[0.35,0.65,0.8,0.9,0.85]\n",
    "absorption['ceil']=[0.07,0.17,0.4,0.55,0.65]\n",
    "absorption['floor']=[0.02,0.06,0.14,0.35,0.6]\n",
    "absorption['seats']=[0.2,0.35,0.55,0.65,0.6]\n",
    "areaSum=0\n",
    "for s in area.keys():\n",
    "    areaSum+=area[s]\n",
    "\n",
    "def absorbSum(freq):\n",
    "    total=0\n",
    "    areaSum=0\n",
    "    nFreq=freqs.index(freq)\n",
    "    for s in area.keys():\n",
    "        total+=area[s]*absorption[s][nFreq]\n",
    "    return total\n",
    "#13.35\n",
    "fS=343*np.sqrt(6/absorbSum(125))\n",
    "print(\"fS = \"+str(fS))\n",
    "\n",
    "L=4*(l[0]+l[1]+l[2])\n",
    "V=l[0]*l[1]*l[2]\n",
    "\n",
    "freq=dFreq=fS/2\n",
    "nModes=4*np.pi*freq**3/c**3+np.pi*areaSum*freq**2/(2*c**2)+L*freq/(8*c)\n",
    "print(\"Modes below fS: \" +str(nModes))"
   ]
  },
  {
   "cell_type": "markdown",
   "metadata": {},
   "source": [
    "### D, E:\n"
   ]
  },
  {
   "cell_type": "code",
   "execution_count": 20,
   "metadata": {},
   "outputs": [
    {
     "name": "stdout",
     "output_type": "stream",
     "text": [
      "Sabine T60 at frequency 125 = 2.165357121738605\n",
      "Eyring T60 at frequency 125 = 1.95738545219724\n",
      "Sabine T60 at frequency 250 = 1.7474924894711659\n",
      "Eyring T60 at frequency 250 = 1.5381183390806281\n",
      "Sabine T60 at frequency 500 = 1.2680601280184631\n",
      "Eyring T60 at frequency 500 = 1.0552735411902712\n",
      "Sabine T60 at frequency 1000 = 1.0076390124513248\n",
      "Eyring T60 at frequency 1000 = 0.7909817819696827\n",
      "Sabine T60 at frequency 2000 = 0.8977366787721952\n",
      "Eyring T60 at frequency 2000 = 0.6784658523374307\n"
     ]
    }
   ],
   "source": [
    "for f in freqs:\n",
    "    sabine = 13.82*4*V/(c*absorbSum(f))\n",
    "    eyring = 0.161*V/(-areaSum*np.log(1-absorbSum(f)/areaSum))\n",
    "    print(\"Sabine T60 at frequency {0} = {1}\".format(str(f),str(sabine)))\n",
    "    print(\"Eyring T60 at frequency {0} = {1}\".format(str(f),str(eyring)))\n",
    "    "
   ]
  },
  {
   "cell_type": "markdown",
   "metadata": {},
   "source": [
    "### F:"
   ]
  },
  {
   "cell_type": "code",
   "execution_count": 21,
   "metadata": {},
   "outputs": [
    {
     "name": "stdout",
     "output_type": "stream",
     "text": [
      "Critical distance at 500hz: 4.49739047333238\n"
     ]
    }
   ],
   "source": [
    "print(\"Critical distance at 500hz: \"+str(0.25*np.sqrt(absorbSum(500)/np.pi)))"
   ]
  },
  {
   "cell_type": "markdown",
   "metadata": {},
   "source": [
    "### G:"
   ]
  },
  {
   "cell_type": "code",
   "execution_count": 22,
   "metadata": {},
   "outputs": [
    {
     "name": "stdout",
     "output_type": "stream",
     "text": [
      "69.17269157843221\n"
     ]
    }
   ],
   "source": [
    "power = 2/1000\n",
    "pref=20e-6\n",
    "c=343\n",
    "rho=1.225\n",
    "\n",
    "p=np.sqrt(rho*c*4*power/absorbSum(500))\n",
    "spl=20*np.log10(p/pref)\n",
    "print(spl)"
   ]
  },
  {
   "cell_type": "markdown",
   "metadata": {},
   "source": [
    "This seems reasonable - google says violins are about 78 dB on the low end"
   ]
  },
  {
   "cell_type": "markdown",
   "metadata": {},
   "source": [
    "### H:\n",
    "\n",
    "Surface absorbtion seems to outweight air attenuation"
   ]
  },
  {
   "cell_type": "code",
   "execution_count": 23,
   "metadata": {},
   "outputs": [
    {
     "name": "stdout",
     "output_type": "stream",
     "text": [
      "0.0008618373694673516\n",
      "0.0022597588666360123\n",
      "0.0053276737357613345\n",
      "0.013754782901515373\n",
      "0.03981518413950064\n"
     ]
    }
   ],
   "source": [
    "rh=50\n",
    "for f in freqs:\n",
    "    m=5.5e-4*(50/rh)*(f/1000)**1.7\n",
    "    print(4*m*V/absorbSum(f))"
   ]
  },
  {
   "cell_type": "markdown",
   "metadata": {},
   "source": [
    "### 13.2 - hot tub:\n",
    "\n",
    "$p_1(r,\\theta,z,t)=A*cos(k_l z)*J_m(k_{mn}r)cos(m\\theta +\\phi_{lmn})e^{i\\omega_{lmn}t}$\n",
    "\n",
    "For the fixed end, $\\frac{dp_1}{dz}=0$. For the open end, $p_1=0$.c\n",
    "\n",
    "At the fixed end, $\\frac{dZ}{dz}=k_l sin(k_l z)$ - this is valid for any $k_l$ at z=0\n",
    "\n",
    "At the open end, $z=h$, $k_l=\\frac{\\pi}{2h}+\\frac{\\pi l}{h}$ \n",
    "\n",
    "At the circular edges, $\\frac{j_{m,n}}{r}=k_{mn}$\n",
    "\n",
    "making the modal frequencies $f_{lmn}=\\frac{c}{2}\\sqrt{(\\frac{\\pi}{2h}+\\frac{\\pi l}{h})^2+(\\frac{j_{m,n}}{r})^2}$\n",
    "\n",
    "*I think the book notation is different regarding the directions of l,m, and n, but the math should still work out for the BCs*"
   ]
  },
  {
   "cell_type": "code",
   "execution_count": 24,
   "metadata": {},
   "outputs": [
    {
     "data": {
      "text/plain": [
       "[[(0, 0, 1), 1303.7226146422674],\n",
       " [(0, 1, 1), 1581.8700603929274],\n",
       " [(0, 0, 2), 1857.9618448078656],\n",
       " [(1, 0, 1), 2115.5422221586723],\n",
       " [(0, 0, 3), 2283.5718142283686],\n",
       " [(1, 0, 2), 2495.565758413957],\n",
       " [(2, 0, 1), 3166.5709165197636],\n",
       " [(2, 0, 2), 3432.127755515665],\n",
       " [(3, 0, 1), 4284.232729762467],\n",
       " [(4, 0, 1), 5427.5183126354805]]"
      ]
     },
     "execution_count": 24,
     "metadata": {},
     "output_type": "execute_result"
    }
   ],
   "source": [
    "from scipy.special import *\n",
    "#jn_zeros(order, num roots) \n",
    "#jv(order, argument)\n",
    "\n",
    "d=5\n",
    "h=2\n",
    "\n",
    "n=100\n",
    "r = np.arange(0,n)\n",
    "lr,mr,nr=np.meshgrid(r,r,r)\n",
    "c=1500\n",
    "\n",
    "def kl(l):\n",
    "    return np.pi/(2*h)+np.pi*l/h\n",
    "#Do all bessel calcs at the beginning to avoid repetition\n",
    "#not sure if these are stored as value tables or calculated\n",
    "bessel=np.zeros([n,n])\n",
    "for m in range(n):\n",
    "    bessel[m,:]=jn_zeros(int(m),n)\n",
    "def kmn(m,n):\n",
    "    return bessel[m,n-1]\n",
    "def tubFreqs(l,m,n):\n",
    "    return (c/2)*np.sqrt(kl(l)**2+kmn(m,n))\n",
    "findLowestModes(tubFreqs, 100, 10)"
   ]
  },
  {
   "cell_type": "markdown",
   "metadata": {},
   "source": [
    "### 13.7\n",
    "\n",
    "$c_{gr}= c\\sqrt{1-(\\frac{\\omega_{lm}}{\\omega})^2}$\n",
    "\n",
    "$2 \\pi f_{co} = \\omega_{co} = ck_{lm}$\n",
    "\n",
    "$f_{co} = c\\frac{\\alpha_{mn}}{2\\pi\\alpha}$"
   ]
  },
  {
   "cell_type": "code",
   "execution_count": 25,
   "metadata": {},
   "outputs": [
    {
     "name": "stdout",
     "output_type": "stream",
     "text": [
      "0.11661807580174927\n",
      "0.20289672440248577\n",
      "nan\n",
      "nan\n",
      "nan\n",
      "nan\n",
      "nan\n",
      "nan\n",
      "nan\n",
      "nan\n",
      "nan\n",
      "nan\n",
      "nan\n",
      "nan\n",
      "nan\n",
      "nan\n",
      "nan\n",
      "nan\n",
      "nan\n",
      "nan\n"
     ]
    },
    {
     "name": "stderr",
     "output_type": "stream",
     "text": [
      "<ipython-input-25-de3a1e06ee93>:10: RuntimeWarning: invalid value encountered in sqrt\n",
      "  cgr=c*np.sqrt(1-(f/fBase)**2) #factor of 2pi comes out and leaves freqs\n"
     ]
    }
   ],
   "source": [
    "jPrimeZeros=[0,3.83,7.02,10.17,13.32,16.47,19.61,22.76,25.90,29.04,32.18,35.33,38.47,41.61,44.76,47.9,51.04,54.18,57.32,60.46]\n",
    "c=343\n",
    "\n",
    "L=20\n",
    "a=5.11/100\n",
    "fBase = 5000\n",
    "\n",
    "for alpha in jPrimeZeros:\n",
    "    f=c*alpha/(2*np.pi*a)\n",
    "    cgr=c*np.sqrt(1-(f/fBase)**2) #factor of 2pi comes out and leaves freqs\n",
    "    t=2*L/cgr\n",
    "    print(t)"
   ]
  },
  {
   "cell_type": "markdown",
   "metadata": {},
   "source": [
    "Everything after mode 2 seems to be imaginary, I'd hazard a guess that there is also an upper limit to number of modes in waveguides in addition to the cutoff frequency. The max difference in arrival time is 86ms, which is significant. "
   ]
  },
  {
   "cell_type": "code",
   "execution_count": null,
   "metadata": {},
   "outputs": [],
   "source": []
  }
 ],
 "metadata": {
  "kernelspec": {
   "display_name": "Python 3",
   "language": "python",
   "name": "python3"
  },
  "language_info": {
   "codemirror_mode": {
    "name": "ipython",
    "version": 3
   },
   "file_extension": ".py",
   "mimetype": "text/x-python",
   "name": "python",
   "nbconvert_exporter": "python",
   "pygments_lexer": "ipython3",
   "version": "3.9.4"
  }
 },
 "nbformat": 4,
 "nbformat_minor": 4
}
